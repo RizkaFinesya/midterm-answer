{
 "cells": [
  {
   "cell_type": "markdown",
   "id": "cca11c7c",
   "metadata": {},
   "source": [
    "# linreg_interpolation\n",
    "+ [Introduction to Linear Regression in Python](https://towardsdatascience.com/c12a072bedf0)\n",
    "+ [Linear Interpolation in Python](https://pythonnumericalmethods.berkeley.edu/notebooks/chapter17.02-Linear-Interpolation.html)\n",
    "+ [Lagrange Polynomial Interpolation in Python](https://pythonnumericalmethods.berkeley.edu/notebooks/chapter17.04-Lagrange-Polynomial-Interpolation.html)"
   ]
  },
  {
   "cell_type": "markdown",
   "id": "22d981e8",
   "metadata": {},
   "source": [
    "## questions"
   ]
  },
  {
   "cell_type": "markdown",
   "id": "05543616",
   "metadata": {},
   "source": [
    "### part a (in-class)\n",
    "1. Write equations of $c_0$ and $c_1$ as implementation of linear regression to  $y = c_0 + c_1 x$.\n",
    "2. Write equation of linear interpolation for pairs of data $\\{ (x_i, y_i) \\ | \\ i = 1, 2, \\dots, n \\}$.\n",
    "3. Write equation of Lagrange polynomial interpolation for pairs of data $\\{ (x_i, y_i) \\ | \\ i = 1, 2, \\dots, n \\}$.\n",
    "4. Explain the difference between linear regression and interpolation for the data."
   ]
  },
  {
   "cell_type": "markdown",
   "id": "c83bcc9e",
   "metadata": {},
   "source": [
    "### part b (take-home)\n",
    "1. Write function `linear_regression()` to calculate `c_0` and `c_1` with input parameters are `x` and `y`, where both are `list` with the same length.\n",
    "2. Write functions `linear_interpol()` to calculate linear interpolation with input parameters are `x` and `y`, where both are `list` with the same length.\n",
    "3. Write functions `lagrange_interpol()` to calculate Lagrange polynomial interpolation with input parameters are `x` and `y`, where both are `list` with the same length.\n",
    "4. Plot curves using, directly or indirectly, the functions `linear_regression()`, `linear_interpol()`, `lagrange_interpol()`, and the data `x` and `y`. Set right label to each series and show them in the plot legend."
   ]
  },
  {
   "cell_type": "markdown",
   "id": "2100d18e",
   "metadata": {},
   "source": [
    "## answers"
   ]
  },
  {
   "cell_type": "markdown",
   "id": "f96e8d42",
   "metadata": {},
   "source": [
    "+ Put your answers of part b below this cell.\n",
    "+ Write only one answer in one Code cell.\n",
    "+ There should be **at least four cells (Code cells)**.\n",
    "+ Existence of additional Markdown cells for explanation are optional."
   ]
  },
  {
   "cell_type": "markdown",
   "id": "d01b933a",
   "metadata": {},
   "source": [
    "Set data yang digunakan terdiri dari\n",
    "$$\n",
    "(3,2), (4,5), (5,12), (10,13), (12,20)\n",
    "$$"
   ]
  },
  {
   "cell_type": "code",
   "execution_count": 1,
   "id": "d852962a",
   "metadata": {},
   "outputs": [],
   "source": [
    "# Mendifinisikan data\n",
    "x = [3, 4, 5, 10, 12]\n",
    "y = [2, 5, 12, 13, 20]"
   ]
  },
  {
   "cell_type": "markdown",
   "id": "7cd2ec18",
   "metadata": {},
   "source": [
    "### Regresi Linear"
   ]
  },
  {
   "cell_type": "code",
   "execution_count": 2,
   "id": "ecc8eadd",
   "metadata": {},
   "outputs": [],
   "source": [
    "import math\n",
    "import numpy as np\n",
    "def sum_product(a, b):\n",
    "    N = min(len(a), len(b))\n",
    "    s = 0\n",
    "    for i in range(N):\n",
    "        s += a[i]*b[i]\n",
    "    return s\n",
    "\n",
    "def f(x, c):\n",
    "    y = []\n",
    "    for i in x:\n",
    "        y.append(c[0] + c[1] * i)\n",
    "    return y\n",
    "\n",
    "def avg(a):\n",
    "    N = len(a)\n",
    "    s = sum(a)\n",
    "    abar = s / N\n",
    "    return abar\n",
    "\n",
    "def SSres(x, y, c):\n",
    "    N = min(len(x), len(y))\n",
    "    ymod = f(x, c)\n",
    "    s = 0\n",
    "    for i in range(N):\n",
    "        s += (y[i] - ymod[i])**2\n",
    "    return s\n",
    "\n",
    "def SSab(x, y):\n",
    "    N = min(len(x), len(y))\n",
    "    ax = avg(x)\n",
    "    ay = avg(y)\n",
    "    s = 0\n",
    "    for i in range(N):\n",
    "        s += (x[i] - ax) * (y[i] - ay)\n",
    "    return s\n",
    "\n",
    "N = len(x)\n",
    "\n",
    "Sy = sum(y)\n",
    "Sx = sum(x)\n",
    "Sxx = sum_product(x, x)\n",
    "Sxy = sum_product(x, y)\n",
    "\n",
    "c_0 = (Sy*Sxx - Sx*Sxy) / (N*Sxx - Sx*Sx)\n",
    "c_1 = (N*Sxy - Sx*Sy) / (N*Sxx - Sx*Sx)\n",
    "c = [c_0,c_1]\n",
    "y_lin = f(x,c)"
   ]
  },
  {
   "cell_type": "markdown",
   "id": "d8126e08",
   "metadata": {},
   "source": [
    "### Interpolasi Linear"
   ]
  },
  {
   "cell_type": "code",
   "execution_count": 3,
   "id": "4ff8ed5c",
   "metadata": {},
   "outputs": [],
   "source": [
    "def q(j, x, xdata, ydata):\n",
    "    q1 = ydata[j+1] * (x - xdata[j]) / (xdata[j+1] - xdata[j])\n",
    "    q2 = ydata[j] * (x - xdata[j+1]) / (xdata[j] - xdata[j+1])\n",
    "    qjx = q1 + q2\n",
    "    return qjx\n",
    "\n",
    "import math\n",
    "def p(x, xdata, ydata):\n",
    "    n = min(len(xdata), len(ydata))\n",
    "    h = xdata[1] - xdata[0]\n",
    "    j = math.floor((x - xdata[0]) / h)\n",
    "    if j >= n - 1: j = n - 2\n",
    "    px = q(j, x, xdata, ydata)\n",
    "    return px\n",
    "\n",
    "def linear_interpolation(x, xdata, ydata):\n",
    "    y = [p(i, xdata, ydata) for i in x]\n",
    "    return y\n",
    "\n",
    "x_inter = np.linspace(0, 14, 100).tolist()\n",
    "y_inter = linear_interpolation(x_inter, x, y)"
   ]
  },
  {
   "cell_type": "markdown",
   "id": "94c3bb23",
   "metadata": {},
   "source": [
    "### Interpolasi Polinomial Lagrange"
   ]
  },
  {
   "cell_type": "code",
   "execution_count": 4,
   "id": "0609a631",
   "metadata": {},
   "outputs": [],
   "source": [
    "def q(j, x, xdata, ydata):\n",
    "    n = min(len(xdata), len(ydata))\n",
    "    prod = 1\n",
    "    for k in range(n):\n",
    "        if k != j:\n",
    "            prod *= (x - xdata[k]) / (xdata[j] - xdata[k])\n",
    "    qjx = ydata[j] * prod\n",
    "    return qjx\n",
    "\n",
    "def p(x, xdata, ydata):\n",
    "    n = min(len(xdata), len(ydata))\n",
    "    px = 0\n",
    "    for j in range(n):\n",
    "        px += q(j, x, xdata, ydata)\n",
    "    return px\n",
    "\n",
    "def lagrange_polynomial(x, xdata, ydata):\n",
    "    y = [p(i, xdata, ydata) for i in x]\n",
    "    return y\n",
    "\n",
    "x_lag = np.linspace(0, 14, 100).tolist()\n",
    "y_lag = lagrange_polynomial(x_lag, x, y)"
   ]
  },
  {
   "cell_type": "markdown",
   "id": "45cfd5fe",
   "metadata": {},
   "source": [
    "### Plot Kurva"
   ]
  },
  {
   "cell_type": "code",
   "execution_count": 5,
   "id": "aa216a86",
   "metadata": {},
   "outputs": [
    {
     "data": {
      "image/png": "[encoded data removed]",
      "text/plain": [
       "<Figure size 640x480 with 1 Axes>"
      ]
     },
     "metadata": {},
     "output_type": "display_data"
    }
   ],
   "source": [
    "import matplotlib.pyplot as plt\n",
    "\n",
    "plt.grid()\n",
    "plt.xlabel(\"x\")\n",
    "plt.ylabel(\"y\")\n",
    "\n",
    "plt.plot(x, y, 'ro', label=\"Data\")\n",
    "plt.plot(x, y_lin, 'b-', label=\"Linear Interpolation\")\n",
    "plt.plot(x_lag, y_lag, 'y-', label=\"Lagrange Polynomial Interpolation\")\n",
    "plt.plot(x_inter, y_inter, 'g-', label=\"Linear Interpolation\")\n",
    "plt.legend(loc=\"upper right\")\n",
    "plt.show()"
   ]
  },
  {
   "cell_type": "code",
   "execution_count": null,
   "id": "171cfd26",
   "metadata": {},
   "outputs": [],
   "source": []
  }
 ],
 "metadata": {
  "authors": [
   {
    "name": "Sparisoma Viridi"
   }
  ],
  "kernelspec": {
   "display_name": "Python 3 (ipykernel)",
   "language": "python",
   "name": "python3"
  },
  "language_info": {
   "codemirror_mode": {
    "name": "ipython",
    "version": 3
   },
   "file_extension": ".py",
   "mimetype": "text/x-python",
   "name": "python",
   "nbconvert_exporter": "python",
   "pygments_lexer": "ipython3",
   "version": "3.9.16"
  },
  "title": "linreg_interpolation"
 },
 "nbformat": 4,
 "nbformat_minor": 5
}
